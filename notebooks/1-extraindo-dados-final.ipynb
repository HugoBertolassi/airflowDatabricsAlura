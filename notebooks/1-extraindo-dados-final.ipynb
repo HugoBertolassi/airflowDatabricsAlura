{
 "cells": [
  {
   "cell_type": "code",
   "execution_count": 0,
   "metadata": {
    "application/vnd.databricks.v1+cell": {
     "cellMetadata": {
      "byteLimit": 2048000,
      "rowLimit": 10000
     },
     "inputWidgets": {},
     "nuid": "ff8b2378-e884-4385-a6f4-217f8034e546",
     "showTitle": false,
     "tableResultSettingsMap": {},
     "title": ""
    }
   },
   "outputs": [],
   "source": [
    "\n",
    "dbutils.widgets.text(\"data_execucao\", \"\")\n",
    "data_execucao = dbutils.widgets.get(\"data_execucao\")\n"
   ]
  },
  {
   "cell_type": "code",
   "execution_count": 0,
   "metadata": {
    "application/vnd.databricks.v1+cell": {
     "cellMetadata": {
      "byteLimit": 2048000,
      "rowLimit": 10000
     },
     "inputWidgets": {},
     "nuid": "04d709e3-dd73-4951-9bcb-2fded8ee8ef2",
     "showTitle": false,
     "tableResultSettingsMap": {},
     "title": ""
    }
   },
   "outputs": [],
   "source": [
    "import requests\n",
    "from pyspark.sql.functions import lit"
   ]
  },
  {
   "cell_type": "code",
   "execution_count": 0,
   "metadata": {
    "application/vnd.databricks.v1+cell": {
     "cellMetadata": {
      "byteLimit": 2048000,
      "rowLimit": 10000
     },
     "inputWidgets": {},
     "nuid": "455c5359-08f5-4855-9d97-ac97d8907e20",
     "showTitle": false,
     "tableResultSettingsMap": {},
     "title": ""
    }
   },
   "outputs": [],
   "source": [
    "def extraindo_dados(date, base=\"BRL\"):\n",
    "\n",
    "  url = f\"https://api.apilayer.com/exchangerates_data/{date}&base={base}\"\n",
    "\n",
    "  headers = {\n",
    "    \"apikey\": \"JxSTDnwHcbXtWh67iqZjlcLBQUhlC7Wc\"\n",
    "    }\n",
    "\n",
    "  parametros = {\n",
    "    \"base\":base,\n",
    "    \"symbols\": \"USD,GBP,EUR\" # \"USD\" (Dólar), \"GBP\" (Libra) e \"EUR\" (Euro)\n",
    "    }\n",
    " \n",
    "  response = requests.request(\"GET\", url, headers=headers, params = parametros)\n",
    "\n",
    "  if response.status_code != 200:\n",
    "    raise Exception(\"Não consegui extrair dados!!!\")\n",
    "\n",
    "  return response.json()"
   ]
  },
  {
   "cell_type": "code",
   "execution_count": 0,
   "metadata": {
    "application/vnd.databricks.v1+cell": {
     "cellMetadata": {
      "byteLimit": 2048000,
      "rowLimit": 10000
     },
     "inputWidgets": {},
     "nuid": "6d14328d-230b-4586-a8c9-dd6e79ff14ec",
     "showTitle": false,
     "tableResultSettingsMap": {},
     "title": ""
    }
   },
   "outputs": [],
   "source": [
    "#func de extração e tratamento dos dados da moeda criando uma lista de tuplas\n",
    "def dados_para_dataframe (dado_json): \n",
    "        dados_tupla = [(moeda, float (taxa)) for moeda, taxa in dado_json[\"rates\"].items()]\n",
    "        return dados_tupla"
   ]
  },
  {
   "cell_type": "code",
   "execution_count": 0,
   "metadata": {
    "application/vnd.databricks.v1+cell": {
     "cellMetadata": {
      "byteLimit": 2048000,
      "rowLimit": 10000
     },
     "inputWidgets": {},
     "nuid": "3243d318-13c9-4a4b-b5e2-0bedb72dd3e4",
     "showTitle": false,
     "tableResultSettingsMap": {},
     "title": ""
    }
   },
   "outputs": [],
   "source": [
    "def salvar_arquivo_parquet(conversoes_extraidas):\n",
    "    ano, mes, dia = conversoes_extraidas['date'].split('-')\n",
    "    caminho_completo = f\"dbfs:/databricks-results/bronze/{ano}/{mes}/{dia}\"\n",
    "    response = dados_para_dataframe(conversoes_extraidas)\n",
    "    df_conversoes = spark.createDataFrame(response, schema=['moeda', 'taxa'])\n",
    "    df_conversoes = df_conversoes.withColumn(\"data\", lit(f\"{ano}-{mes}-{dia}\"))\n",
    "    \n",
    "    df_conversoes.write.format(\"parquet\")\\\n",
    "                .mode(\"overwrite\")\\\n",
    "                .save(caminho_completo)\n",
    "\n",
    "    print(f\"Os arquivos foram salvos em {caminho_completo}\")"
   ]
  },
  {
   "cell_type": "code",
   "execution_count": 0,
   "metadata": {
    "application/vnd.databricks.v1+cell": {
     "cellMetadata": {
      "byteLimit": 2048000,
      "rowLimit": 10000
     },
     "inputWidgets": {},
     "nuid": "9ee3ea8d-5b76-4f50-a45a-0139c44f6619",
     "showTitle": false,
     "tableResultSettingsMap": {},
     "title": ""
    }
   },
   "outputs": [],
   "source": [
    "# cotacoes = extraindo_dados(\"2023-01-01\")\n",
    "# print(cotacoes)\n",
    "cotacoes = extraindo_dados(data_execucao)\n",
    "salvar_arquivo_parquet(cotacoes)"
   ]
  },
  {
   "cell_type": "code",
   "execution_count": 0,
   "metadata": {
    "application/vnd.databricks.v1+cell": {
     "cellMetadata": {
      "byteLimit": 2048000,
      "rowLimit": 10000
     },
     "inputWidgets": {},
     "nuid": "dd217766-bf8c-4d74-b20b-6017caa8adb3",
     "showTitle": false,
     "tableResultSettingsMap": {},
     "title": ""
    }
   },
   "outputs": [],
   "source": [
    "#validando se está salvo\n",
    "display(dbutils.fs.ls(\"dbfs:/databricks-results/bronze/2025/07\"))"
   ]
  },
  {
   "cell_type": "code",
   "execution_count": 0,
   "metadata": {
    "application/vnd.databricks.v1+cell": {
     "cellMetadata": {
      "byteLimit": 2048000,
      "rowLimit": 10000
     },
     "inputWidgets": {},
     "nuid": "6ddaee07-062c-426e-b3cd-e601e8259ac7",
     "showTitle": false,
     "tableResultSettingsMap": {},
     "title": ""
    }
   },
   "outputs": [],
   "source": [
    "#apagando os dados da pasta para não gerar duplicidade\n",
    "# dbutils.fs.rm(\"dbfs:/databricks-results/\", True)"
   ]
  },
  {
   "cell_type": "code",
   "execution_count": 0,
   "metadata": {
    "application/vnd.databricks.v1+cell": {
     "cellMetadata": {},
     "inputWidgets": {},
     "nuid": "77f58722-1feb-4a42-9b3c-ecea2a13afa2",
     "showTitle": false,
     "tableResultSettingsMap": {},
     "title": ""
    }
   },
   "outputs": [],
   "source": [
    "dbutils.fs.rm(\"dbfs:/databricks-results/prata/taxas_conversao\", True)\n",
    "dbutils.fs.rm(\"dbfs:/databricks-results/prata/valores_reais\", True)"
   ]
  }
 ],
 "metadata": {
  "application/vnd.databricks.v1+notebook": {
   "computePreferences": null,
   "dashboards": [],
   "environmentMetadata": {
    "base_environment": "",
    "environment_version": "2"
   },
   "inputWidgetPreferences": null,
   "language": "python",
   "notebookMetadata": {
    "pythonIndentUnit": 4
   },
   "notebookName": "1-extraindo-dados-final",
   "widgets": {
    "data_execucao": {
     "currentValue": "",
     "nuid": "b2da666f-0240-4a0c-98b8-2636e87fe257",
     "typedWidgetInfo": {
      "autoCreated": false,
      "defaultValue": "",
      "label": null,
      "name": "data_execucao",
      "options": {
       "widgetDisplayType": "Text",
       "validationRegex": null
      },
      "parameterDataType": "String"
     },
     "widgetInfo": {
      "widgetType": "text",
      "defaultValue": "",
      "label": null,
      "name": "data_execucao",
      "options": {
       "widgetType": "text",
       "autoCreated": null,
       "validationRegex": null
      }
     }
    }
   }
  },
  "language_info": {
   "name": "python"
  }
 },
 "nbformat": 4,
 "nbformat_minor": 0
}
