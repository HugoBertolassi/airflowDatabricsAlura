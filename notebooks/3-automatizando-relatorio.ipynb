{
 "cells": [
  {
   "cell_type": "markdown",
   "metadata": {
    "application/vnd.databricks.v1+cell": {
     "cellMetadata": {},
     "inputWidgets": {},
     "nuid": "c03df3b9-85d9-4176-8cef-09e537ae28df",
     "showTitle": false,
     "tableResultSettingsMap": {},
     "title": ""
    }
   },
   "source": [
    "A ideia é enviar a transformação em excel para o bot do slack criado\n",
    "https://pypi.org/project/slack-sdk/  https://pypi.org/project/kaleido/\n",
    "A slack-sdk,  Ela será usada para trabalharmos diretamente com o bot, fazer as configurações, e enviar de fato o arquivo por ele;\n",
    "E a kaleido, também encontrada no site do PyPi, que será usada para gerar os gráficos \n"
   ]
  },
  {
   "cell_type": "code",
   "execution_count": 0,
   "metadata": {
    "application/vnd.databricks.v1+cell": {
     "cellMetadata": {
      "byteLimit": 2048000,
      "rowLimit": 10000
     },
     "inputWidgets": {},
     "nuid": "6b540b01-2ffd-4d05-a8a2-61395c5217d3",
     "showTitle": false,
     "tableResultSettingsMap": {},
     "title": ""
    }
   },
   "outputs": [],
   "source": [
    "%pip install kaleido slack-sdk"
   ]
  },
  {
   "cell_type": "code",
   "execution_count": 0,
   "metadata": {
    "application/vnd.databricks.v1+cell": {
     "cellMetadata": {},
     "inputWidgets": {},
     "nuid": "58731fd7-0fcc-4b62-81fe-f9fdc0f045d1",
     "showTitle": false,
     "tableResultSettingsMap": {},
     "title": ""
    }
   },
   "outputs": [],
   "source": [
    "#validando se instalou\n",
    "import slack-sdk"
   ]
  },
  {
   "cell_type": "code",
   "execution_count": 0,
   "metadata": {
    "application/vnd.databricks.v1+cell": {
     "cellMetadata": {},
     "inputWidgets": {},
     "nuid": "562e59fc-6403-4705-98fc-24a13b52c89d",
     "showTitle": false,
     "tableResultSettingsMap": {},
     "title": ""
    }
   },
   "outputs": [],
   "source": [
    "from slack_Sdk import WebClient"
   ]
  },
  {
   "cell_type": "code",
   "execution_count": 0,
   "metadata": {
    "application/vnd.databricks.v1+cell": {
     "cellMetadata": {},
     "inputWidgets": {},
     "nuid": "8e4536bd-c0b5-4647-96c0-f89a49a1f0f8",
     "showTitle": false,
     "tableResultSettingsMap": {},
     "title": ""
    }
   },
   "outputs": [],
   "source": [
    "slack_token = \"\"\n",
    "client = WebClient(token=slack_token)"
   ]
  },
  {
   "cell_type": "code",
   "execution_count": 0,
   "metadata": {
    "application/vnd.databricks.v1+cell": {
     "cellMetadata": {},
     "inputWidgets": {},
     "nuid": "40a199d8-8d14-44de-9ce4-fd24412702a0",
     "showTitle": false,
     "tableResultSettingsMap": {},
     "title": ""
    }
   },
   "outputs": [],
   "source": [
    "# Identificando o arquivo CSV a ser enviado\n",
    "display(dbutils.fs.ls(\"dbfs:/databricks-results/prata/valores_reais/\"))"
   ]
  },
  {
   "cell_type": "code",
   "execution_count": 0,
   "metadata": {
    "application/vnd.databricks.v1+cell": {
     "cellMetadata": {
      "byteLimit": 2048000,
      "rowLimit": 10000
     },
     "inputWidgets": {},
     "nuid": "7bfa0e4d-d9aa-48db-a8cc-a39f3c40d046",
     "showTitle": false,
     "tableResultSettingsMap": {},
     "title": ""
    }
   },
   "outputs": [],
   "source": [
    "#utilizando o padrao de nomenclatura do spark conseguimos montar um codigo para pegar o arquivo gerado\n",
    "nome_arquivo = dbutils.fs.ls(\"dbfs:/databricks-results/prata/valores_reais/\")[-1].name"
   ]
  },
  {
   "cell_type": "code",
   "execution_count": 0,
   "metadata": {
    "application/vnd.databricks.v1+cell": {
     "cellMetadata": {},
     "inputWidgets": {},
     "nuid": "2ab52c8f-f021-4225-9c83-48cfb470dc40",
     "showTitle": false,
     "tableResultSettingsMap": {},
     "title": ""
    }
   },
   "outputs": [],
   "source": [
    "#retorno, teremos a indicação do local \"/databricks/driver\". \"/databricks/driver\" dai podemos navegar como se fosso o linux para pegar o lugar exato do arquivo csv\n",
    "!pwd\n"
   ]
  },
  {
   "cell_type": "code",
   "execution_count": 0,
   "metadata": {
    "application/vnd.databricks.v1+cell": {
     "cellMetadata": {},
     "inputWidgets": {},
     "nuid": "4bc3066b-aed8-4790-94ac-a67ea941e096",
     "showTitle": false,
     "tableResultSettingsMap": {},
     "title": ""
    }
   },
   "outputs": [],
   "source": [
    "!ls ../../"
   ]
  },
  {
   "cell_type": "code",
   "execution_count": 0,
   "metadata": {
    "application/vnd.databricks.v1+cell": {
     "cellMetadata": {},
     "inputWidgets": {},
     "nuid": "715ede28-36ec-4869-a2ec-02807986e1b8",
     "showTitle": false,
     "tableResultSettingsMap": {},
     "title": ""
    }
   },
   "outputs": [],
   "source": [
    "!ls ../../dbfs/databricks-results/prata/valores_reais/"
   ]
  },
  {
   "cell_type": "code",
   "execution_count": 0,
   "metadata": {
    "application/vnd.databricks.v1+cell": {
     "cellMetadata": {
      "byteLimit": 2048000,
      "rowLimit": 10000
     },
     "inputWidgets": {},
     "nuid": "436187b4-fca4-43f9-9830-d6ad428647ad",
     "showTitle": false,
     "tableResultSettingsMap": {},
     "title": ""
    }
   },
   "outputs": [],
   "source": [
    "path = \"../../dbfs/databricks-results/prata/valores_reais/\" + nome_arquivo  "
   ]
  },
  {
   "cell_type": "code",
   "execution_count": 0,
   "metadata": {
    "application/vnd.databricks.v1+cell": {
     "cellMetadata": {},
     "inputWidgets": {},
     "nuid": "ce0ba47c-b557-438c-ac6b-49a30075c035",
     "showTitle": false,
     "tableResultSettingsMap": {},
     "title": ""
    }
   },
   "outputs": [],
   "source": [
    "#enviando o arquivo para o slack\n",
    "enviando_arquivo_csv = client.files_upload_v2(\n",
    "    channel=\"\",  #id do canal do slack que queremos enviar a msg\n",
    "    title=\"Arquivo no formato CSV do valor do real convertido\",\n",
    "    file=path,\n",
    "    filename=\"valores_reais.csv\",\n",
    "    initial_comment=\"Segue anexo o arquivo CSV:\",\n",
    ")"
   ]
  },
  {
   "cell_type": "code",
   "execution_count": 0,
   "metadata": {
    "application/vnd.databricks.v1+cell": {
     "cellMetadata": {},
     "inputWidgets": {},
     "nuid": "e7b9aeda-84eb-46b6-948c-8aa4118782ff",
     "showTitle": false,
     "tableResultSettingsMap": {},
     "title": ""
    }
   },
   "outputs": [],
   "source": []
  },
  {
   "cell_type": "markdown",
   "metadata": {
    "application/vnd.databricks.v1+cell": {
     "cellMetadata": {},
     "inputWidgets": {},
     "nuid": "07a3a097-f2dc-46e9-a333-86289875f6bc",
     "showTitle": false,
     "tableResultSettingsMap": {},
     "title": ""
    }
   },
   "source": [
    "gerando o grafico"
   ]
  },
  {
   "cell_type": "code",
   "execution_count": 0,
   "metadata": {
    "application/vnd.databricks.v1+cell": {
     "cellMetadata": {
      "byteLimit": 2048000,
      "rowLimit": 10000
     },
     "inputWidgets": {},
     "nuid": "55ef5f34-2b2b-40df-8857-1d4779b7ac1e",
     "showTitle": false,
     "tableResultSettingsMap": {},
     "title": ""
    }
   },
   "outputs": [],
   "source": [
    "import pyspark.pandas as ps"
   ]
  },
  {
   "cell_type": "code",
   "execution_count": 0,
   "metadata": {
    "application/vnd.databricks.v1+cell": {
     "cellMetadata": {
      "byteLimit": 2048000,
      "rowLimit": 10000
     },
     "inputWidgets": {},
     "nuid": "22ea930d-0aed-465f-8a57-610de036ff0b",
     "showTitle": false,
     "tableResultSettingsMap": {},
     "title": ""
    }
   },
   "outputs": [],
   "source": [
    "ps.read_csv(\"dbfs:/databricks-results/prata/valores_reais/\").head()"
   ]
  },
  {
   "cell_type": "code",
   "execution_count": 0,
   "metadata": {
    "application/vnd.databricks.v1+cell": {
     "cellMetadata": {
      "byteLimit": 2048000,
      "rowLimit": 10000
     },
     "inputWidgets": {},
     "nuid": "3d524ec1-8c39-4647-8953-345b47673fce",
     "showTitle": false,
     "tableResultSettingsMap": {},
     "title": ""
    }
   },
   "outputs": [],
   "source": [
    "df_valores_reais = ps.read_csv(\"dbfs:/databricks-results/prata/valores_reais/\")\n",
    "df_valores_reais.head()"
   ]
  },
  {
   "cell_type": "code",
   "execution_count": 0,
   "metadata": {
    "application/vnd.databricks.v1+cell": {
     "cellMetadata": {
      "byteLimit": 2048000,
      "rowLimit": 10000
     },
     "inputWidgets": {},
     "nuid": "e81e70f0-81f2-4e5d-a1b7-77567ec987c5",
     "showTitle": false,
     "tableResultSettingsMap": {},
     "title": ""
    }
   },
   "outputs": [],
   "source": [
    "df_valores_reais.plot.line(x=\"data\", y='USD')"
   ]
  },
  {
   "cell_type": "code",
   "execution_count": 0,
   "metadata": {
    "application/vnd.databricks.v1+cell": {
     "cellMetadata": {
      "byteLimit": 2048000,
      "rowLimit": 10000
     },
     "inputWidgets": {},
     "nuid": "61d52181-7255-4f79-a873-f51f0b4026d6",
     "showTitle": false,
     "tableResultSettingsMap": {},
     "title": ""
    }
   },
   "outputs": [],
   "source": [
    "#criando pasta local (isso pq os arquivos são armazenados no cluster), esses dados são volateis então vão apagar se o cluster for reiniciado\n",
    "!mkdir imagens"
   ]
  },
  {
   "cell_type": "code",
   "execution_count": 0,
   "metadata": {
    "application/vnd.databricks.v1+cell": {
     "cellMetadata": {
      "byteLimit": 2048000,
      "rowLimit": 10000
     },
     "inputWidgets": {},
     "nuid": "ba8a1ecf-22b5-4ca1-87b7-318c2d476707",
     "showTitle": false,
     "tableResultSettingsMap": {},
     "title": ""
    }
   },
   "outputs": [],
   "source": [
    "!ls"
   ]
  },
  {
   "cell_type": "code",
   "execution_count": 0,
   "metadata": {
    "application/vnd.databricks.v1+cell": {
     "cellMetadata": {
      "byteLimit": 2048000,
      "rowLimit": 10000
     },
     "inputWidgets": {},
     "nuid": "a74e9de7-fca3-4483-8964-7645042dd0b9",
     "showTitle": false,
     "tableResultSettingsMap": {},
     "title": ""
    }
   },
   "outputs": [],
   "source": [
    "#salvar todos os gráficos simultaneamente. No Pandas, há um método chamado columns(). Utilizando-o junto à variável df_valores_reais, teremos todas as colunas como retorno.\n",
    "df_valores_reais.columns"
   ]
  },
  {
   "cell_type": "code",
   "execution_count": 0,
   "metadata": {
    "application/vnd.databricks.v1+cell": {
     "cellMetadata": {
      "byteLimit": 2048000,
      "rowLimit": 10000
     },
     "inputWidgets": {},
     "nuid": "b38ef525-0478-41a6-bbc5-09977bb78c42",
     "showTitle": false,
     "tableResultSettingsMap": {},
     "title": ""
    }
   },
   "outputs": [],
   "source": [
    "df_valores_reais.columns[1:]"
   ]
  },
  {
   "cell_type": "code",
   "execution_count": 0,
   "metadata": {
    "application/vnd.databricks.v1+cell": {
     "cellMetadata": {
      "byteLimit": 2048000,
      "rowLimit": 10000
     },
     "inputWidgets": {},
     "nuid": "e50183a4-316d-48c6-9972-a015ebd414fa",
     "showTitle": false,
     "tableResultSettingsMap": {},
     "title": ""
    }
   },
   "outputs": [],
   "source": [
    "# %restart_python"
   ]
  },
  {
   "cell_type": "code",
   "execution_count": 0,
   "metadata": {
    "application/vnd.databricks.v1+cell": {
     "cellMetadata": {
      "byteLimit": 2048000,
      "rowLimit": 10000
     },
     "inputWidgets": {},
     "nuid": "1073b820-beca-47d7-89ff-d7a7e6a34bb3",
     "showTitle": false,
     "tableResultSettingsMap": {},
     "title": ""
    }
   },
   "outputs": [],
   "source": [
    "for moeda in df_valores_reais.columns[1:]:\n",
    "    fig = df_valores_reais.plot.line(x=\"data\", y=moeda)\n",
    "    fig.write_image(f\"/imagens/{moeda}.png\")"
   ]
  },
  {
   "cell_type": "code",
   "execution_count": 0,
   "metadata": {
    "application/vnd.databricks.v1+cell": {
     "cellMetadata": {
      "byteLimit": 2048000,
      "rowLimit": 10000
     },
     "inputWidgets": {},
     "nuid": "ff7c1447-bc6a-47ee-b49a-7b43aa218ccb",
     "showTitle": false,
     "tableResultSettingsMap": {},
     "title": ""
    }
   },
   "outputs": [],
   "source": [
    "!ls ./imagens   "
   ]
  },
  {
   "cell_type": "markdown",
   "metadata": {
    "application/vnd.databricks.v1+cell": {
     "cellMetadata": {},
     "inputWidgets": {},
     "nuid": "cfaecb17-8d81-4b24-b479-d78b60b5b67d",
     "showTitle": false,
     "tableResultSettingsMap": {},
     "title": ""
    }
   },
   "source": [
    "enviando as imagens para o slack"
   ]
  },
  {
   "cell_type": "code",
   "execution_count": 0,
   "metadata": {
    "application/vnd.databricks.v1+cell": {
     "cellMetadata": {},
     "inputWidgets": {},
     "nuid": "92087b7d-be3c-4925-8f2c-d43e89a9af4c",
     "showTitle": false,
     "tableResultSettingsMap": {},
     "title": ""
    }
   },
   "outputs": [],
   "source": [
    "def enviando_imagens(moeda_cotacao):\n",
    "    enviando_imagens = client.files_upload_v2(\n",
    "    channel=\"C05A04VRCUQ\",  \n",
    "    title=\"Enviando imagens de cotacoes\",\n",
    "    file=f\"./imagens/{moeda_cotacao}.png\"\n",
    ")"
   ]
  },
  {
   "cell_type": "code",
   "execution_count": 0,
   "metadata": {
    "application/vnd.databricks.v1+cell": {
     "cellMetadata": {},
     "inputWidgets": {},
     "nuid": "9a70c345-3185-46c2-88be-0e22e2eea7d1",
     "showTitle": false,
     "tableResultSettingsMap": {},
     "title": ""
    }
   },
   "outputs": [],
   "source": [
    "for moeda in df_valores_reais.columns[1:]:\n",
    "    enviando_imagens(moeda)"
   ]
  },
  {
   "cell_type": "code",
   "execution_count": 0,
   "metadata": {
    "application/vnd.databricks.v1+cell": {
     "cellMetadata": {},
     "inputWidgets": {},
     "nuid": "2bc31407-1102-4f46-acd0-48adc378d561",
     "showTitle": false,
     "tableResultSettingsMap": {},
     "title": ""
    }
   },
   "outputs": [],
   "source": [
    "# # codigo enxuto com tratamento de erro\n",
    "# # https://www.alura.com.br/artigos/tratamento-de-excecoes-no-python\n",
    "# # https://www.alura.com.br/apostila-python-orientacao-a-objetos/excecoes-e-erros\n",
    "# from slack_sdk import WebClient\n",
    "# from slack_sdk.errors import SlackApiError\n",
    "\n",
    "# client = WebClient(token=\"#token_do_bot\")\n",
    "\n",
    "# try:\n",
    "#     for i in range(1, 4):\n",
    "#         with open(f\"./imagens/{i}.jpeg\", \"rb\") as file:\n",
    "#             response = client.files_upload_v2(\n",
    "#                 channels=\"#seu_canal\",\n",
    "#                 initial_comment=\"Aqui estão as imagens 1, 2 e 3:\",\n",
    "#                 file=file.read(),\n",
    "#                 filename=f\"{i}.jpeg\"\n",
    "#             )\n",
    "#             print(f\"Arquivo {i}.jpeg enviado com sucesso!\")\n",
    "# except SlackApiError as e:\n",
    "#     print(\"Erro ao enviar o arquivo)"
   ]
  }
 ],
 "metadata": {
  "application/vnd.databricks.v1+notebook": {
   "computePreferences": null,
   "dashboards": [],
   "environmentMetadata": {
    "base_environment": "",
    "environment_version": "2"
   },
   "inputWidgetPreferences": null,
   "language": "python",
   "notebookMetadata": {
    "pythonIndentUnit": 4
   },
   "notebookName": "3-automatizando-relatorio",
   "widgets": {}
  },
  "language_info": {
   "name": "python"
  }
 },
 "nbformat": 4,
 "nbformat_minor": 0
}
