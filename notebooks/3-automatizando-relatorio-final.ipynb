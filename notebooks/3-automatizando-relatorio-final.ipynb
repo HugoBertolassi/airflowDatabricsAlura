{
 "cells": [
  {
   "cell_type": "markdown",
   "metadata": {
    "application/vnd.databricks.v1+cell": {
     "cellMetadata": {},
     "inputWidgets": {},
     "nuid": "c03df3b9-85d9-4176-8cef-09e537ae28df",
     "showTitle": false,
     "tableResultSettingsMap": {},
     "title": ""
    }
   },
   "source": [
    "A ideia é enviar a transformação em excel para o bot do slack criado\n",
    "https://pypi.org/project/slack-sdk/  https://pypi.org/project/kaleido/\n",
    "A slack-sdk,  Ela será usada para trabalharmos diretamente com o bot, fazer as configurações, e enviar de fato o arquivo por ele;\n",
    "E a kaleido, também encontrada no site do PyPi, que será usada para gerar os gráficos \n"
   ]
  },
  {
   "cell_type": "code",
   "execution_count": 0,
   "metadata": {
    "application/vnd.databricks.v1+cell": {
     "cellMetadata": {},
     "inputWidgets": {},
     "nuid": "6b540b01-2ffd-4d05-a8a2-61395c5217d3",
     "showTitle": false,
     "tableResultSettingsMap": {},
     "title": ""
    }
   },
   "outputs": [],
   "source": [
    "%pip install kaleido slack-sdk"
   ]
  },
  {
   "cell_type": "code",
   "execution_count": 0,
   "metadata": {
    "application/vnd.databricks.v1+cell": {
     "cellMetadata": {},
     "inputWidgets": {},
     "nuid": "58731fd7-0fcc-4b62-81fe-f9fdc0f045d1",
     "showTitle": false,
     "tableResultSettingsMap": {},
     "title": ""
    }
   },
   "outputs": [],
   "source": [
    "#validando se instalou\n",
    "import slack-sdk\n",
    "from slack_Sdk import WebClient\n",
    "import pyspark.pandas as ps"
   ]
  },
  {
   "cell_type": "code",
   "execution_count": 0,
   "metadata": {
    "application/vnd.databricks.v1+cell": {
     "cellMetadata": {},
     "inputWidgets": {},
     "nuid": "8e4536bd-c0b5-4647-96c0-f89a49a1f0f8",
     "showTitle": false,
     "tableResultSettingsMap": {},
     "title": ""
    }
   },
   "outputs": [],
   "source": [
    "slack_token = \"\"\n",
    "client = WebClient(token=slack_token)"
   ]
  },
  {
   "cell_type": "code",
   "execution_count": 0,
   "metadata": {
    "application/vnd.databricks.v1+cell": {
     "cellMetadata": {},
     "inputWidgets": {},
     "nuid": "7bfa0e4d-d9aa-48db-a8cc-a39f3c40d046",
     "showTitle": false,
     "tableResultSettingsMap": {},
     "title": ""
    }
   },
   "outputs": [],
   "source": [
    "#utilizando o padrao de nomenclatura do spark conseguimos montar um codigo para pegar o arquivo gerado\n",
    "nome_arquivo = dbutils.fs.ls(\"dbfs:/databricks-results/prata/valores_reais/\")[-1].name"
   ]
  },
  {
   "cell_type": "code",
   "execution_count": 0,
   "metadata": {
    "application/vnd.databricks.v1+cell": {
     "cellMetadata": {},
     "inputWidgets": {},
     "nuid": "436187b4-fca4-43f9-9830-d6ad428647ad",
     "showTitle": false,
     "tableResultSettingsMap": {},
     "title": ""
    }
   },
   "outputs": [],
   "source": [
    "#retorno, teremos a indicação do local \"/databricks/driver\". \"/databricks/driver\" dai podemos navegar como se fosso o linux para pegar o lugar exato do arquivo csv\n",
    "path = \"../../dbfs/databricks-results/prata/valores_reais/\" + nome_arquivo  "
   ]
  },
  {
   "cell_type": "code",
   "execution_count": 0,
   "metadata": {
    "application/vnd.databricks.v1+cell": {
     "cellMetadata": {},
     "inputWidgets": {},
     "nuid": "ce0ba47c-b557-438c-ac6b-49a30075c035",
     "showTitle": false,
     "tableResultSettingsMap": {},
     "title": ""
    }
   },
   "outputs": [],
   "source": [
    "#enviando o arquivo para o slack\n",
    "enviando_arquivo_csv = client.files_upload_v2(\n",
    "    channel=\"\",  #id do canal do slack que queremos enviar a msg\n",
    "    title=\"Arquivo no formato CSV do valor do real convertido\",\n",
    "    file=path,\n",
    "    filename=\"valores_reais.csv\",\n",
    "    initial_comment=\"Segue anexo o arquivo CSV:\",\n",
    ")"
   ]
  },
  {
   "cell_type": "markdown",
   "metadata": {
    "application/vnd.databricks.v1+cell": {
     "cellMetadata": {},
     "inputWidgets": {},
     "nuid": "07a3a097-f2dc-46e9-a333-86289875f6bc",
     "showTitle": false,
     "tableResultSettingsMap": {},
     "title": ""
    }
   },
   "source": [
    "gerando o grafico"
   ]
  },
  {
   "cell_type": "code",
   "execution_count": 0,
   "metadata": {
    "application/vnd.databricks.v1+cell": {
     "cellMetadata": {},
     "inputWidgets": {},
     "nuid": "3d524ec1-8c39-4647-8953-345b47673fce",
     "showTitle": false,
     "tableResultSettingsMap": {},
     "title": ""
    }
   },
   "outputs": [],
   "source": [
    "df_valores_reais = ps.read_csv(\"dbfs:/databricks-results/prata/valores_reais/\")"
   ]
  },
  {
   "cell_type": "code",
   "execution_count": 0,
   "metadata": {
    "application/vnd.databricks.v1+cell": {
     "cellMetadata": {},
     "inputWidgets": {},
     "nuid": "e81e70f0-81f2-4e5d-a1b7-77567ec987c5",
     "showTitle": false,
     "tableResultSettingsMap": {},
     "title": ""
    }
   },
   "outputs": [],
   "source": [
    "#vendo a impressao\n",
    "#  df_valores_reais.plot.line(x=\"data\", y='USD')"
   ]
  },
  {
   "cell_type": "code",
   "execution_count": 0,
   "metadata": {
    "application/vnd.databricks.v1+cell": {
     "cellMetadata": {},
     "inputWidgets": {},
     "nuid": "61d52181-7255-4f79-a873-f51f0b4026d6",
     "showTitle": false,
     "tableResultSettingsMap": {},
     "title": ""
    }
   },
   "outputs": [],
   "source": [
    "#criando pasta local (isso pq os arquivos são armazenados no cluster), esses dados são volateis então vão apagar se o cluster for reiniciado\n",
    "!mkdir imagens"
   ]
  },
  {
   "cell_type": "code",
   "execution_count": 0,
   "metadata": {
    "application/vnd.databricks.v1+cell": {
     "cellMetadata": {},
     "inputWidgets": {},
     "nuid": "1073b820-beca-47d7-89ff-d7a7e6a34bb3",
     "showTitle": false,
     "tableResultSettingsMap": {},
     "title": ""
    }
   },
   "outputs": [],
   "source": [
    "#salvando um grafico por cada moeda\n",
    "for moeda in df_valores_reais.columns[1:]:\n",
    "    fig = df_valores_reais.plot.line(x=\"data\", y=moeda)\n",
    "    fig.write_image(f\".imagens/{moeda}.png\")"
   ]
  },
  {
   "cell_type": "markdown",
   "metadata": {
    "application/vnd.databricks.v1+cell": {
     "cellMetadata": {},
     "inputWidgets": {},
     "nuid": "cfaecb17-8d81-4b24-b479-d78b60b5b67d",
     "showTitle": false,
     "tableResultSettingsMap": {},
     "title": ""
    }
   },
   "source": [
    "enviando as imagens para o slack"
   ]
  },
  {
   "cell_type": "code",
   "execution_count": 0,
   "metadata": {
    "application/vnd.databricks.v1+cell": {
     "cellMetadata": {},
     "inputWidgets": {},
     "nuid": "92087b7d-be3c-4925-8f2c-d43e89a9af4c",
     "showTitle": false,
     "tableResultSettingsMap": {},
     "title": ""
    }
   },
   "outputs": [],
   "source": [
    "def enviando_imagens(moeda_cotacao):\n",
    "    enviando_imagens = client.files_upload_v2(\n",
    "    channel=\"C05A04VRCUQ\",  \n",
    "    title=\"Enviando imagens de cotacoes\",\n",
    "    file=f\"./imagens/{moeda_cotacao}.png\"\n",
    ")"
   ]
  },
  {
   "cell_type": "code",
   "execution_count": 0,
   "metadata": {
    "application/vnd.databricks.v1+cell": {
     "cellMetadata": {},
     "inputWidgets": {},
     "nuid": "9a70c345-3185-46c2-88be-0e22e2eea7d1",
     "showTitle": false,
     "tableResultSettingsMap": {},
     "title": ""
    }
   },
   "outputs": [],
   "source": [
    "for moeda in df_valores_reais.columns[1:]:\n",
    "    enviando_imagens(moeda)"
   ]
  },
  {
   "cell_type": "code",
   "execution_count": 0,
   "metadata": {
    "application/vnd.databricks.v1+cell": {
     "cellMetadata": {},
     "inputWidgets": {},
     "nuid": "2bc31407-1102-4f46-acd0-48adc378d561",
     "showTitle": false,
     "tableResultSettingsMap": {},
     "title": ""
    }
   },
   "outputs": [],
   "source": [
    "# # codigo enxuto com tratamento de erro\n",
    "# # https://www.alura.com.br/artigos/tratamento-de-excecoes-no-python\n",
    "# # https://www.alura.com.br/apostila-python-orientacao-a-objetos/excecoes-e-erros\n",
    "# from slack_sdk import WebClient\n",
    "# from slack_sdk.errors import SlackApiError\n",
    "\n",
    "# client = WebClient(token=\"#token_do_bot\")\n",
    "\n",
    "# try:\n",
    "#     for i in range(1, 4):\n",
    "#         with open(f\"./imagens/{i}.jpeg\", \"rb\") as file:\n",
    "#             response = client.files_upload_v2(\n",
    "#                 channels=\"#seu_canal\",\n",
    "#                 initial_comment=\"Aqui estão as imagens 1, 2 e 3:\",\n",
    "#                 file=file.read(),\n",
    "#                 filename=f\"{i}.jpeg\"\n",
    "#             )\n",
    "#             print(f\"Arquivo {i}.jpeg enviado com sucesso!\")\n",
    "# except SlackApiError as e:\n",
    "#     print(\"Erro ao enviar o arquivo)"
   ]
  }
 ],
 "metadata": {
  "application/vnd.databricks.v1+notebook": {
   "computePreferences": null,
   "dashboards": [],
   "environmentMetadata": {
    "base_environment": "",
    "environment_version": "2"
   },
   "inputWidgetPreferences": null,
   "language": "python",
   "notebookMetadata": {
    "pythonIndentUnit": 4
   },
   "notebookName": "3-automatizando-relatorio-final",
   "widgets": {}
  },
  "language_info": {
   "name": "python"
  }
 },
 "nbformat": 4,
 "nbformat_minor": 0
}
