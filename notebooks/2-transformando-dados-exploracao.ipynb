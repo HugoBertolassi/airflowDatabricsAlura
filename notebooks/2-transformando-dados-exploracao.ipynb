{
 "cells": [
  {
   "cell_type": "code",
   "execution_count": 0,
   "metadata": {
    "application/vnd.databricks.v1+cell": {
     "cellMetadata": {
      "byteLimit": 2048000,
      "rowLimit": 10000
     },
     "inputWidgets": {},
     "nuid": "2b6234e5-6c25-44e8-9725-9a35ff7474e1",
     "showTitle": false,
     "tableResultSettingsMap": {},
     "title": ""
    }
   },
   "outputs": [],
   "source": [
    "df_junto = spark.read.parquet(\"dbfs:/databricks-results/bronze/*/*/*\")\n",
    "df_junto.show(5)"
   ]
  },
  {
   "cell_type": "code",
   "execution_count": 0,
   "metadata": {
    "application/vnd.databricks.v1+cell": {
     "cellMetadata": {
      "byteLimit": 2048000,
      "rowLimit": 10000
     },
     "inputWidgets": {},
     "nuid": "4373a84d-0b6e-4625-a069-8d079f142307",
     "showTitle": false,
     "tableResultSettingsMap": {},
     "title": ""
    }
   },
   "outputs": [],
   "source": [
    "#qtd de linha\n",
    "print(df_junto.count())"
   ]
  },
  {
   "cell_type": "code",
   "execution_count": 0,
   "metadata": {
    "application/vnd.databricks.v1+cell": {
     "cellMetadata": {
      "byteLimit": 2048000,
      "rowLimit": 10000
     },
     "inputWidgets": {},
     "nuid": "bba42773-a944-49a2-98bd-3e4f4097b773",
     "showTitle": false,
     "tableResultSettingsMap": {},
     "title": ""
    }
   },
   "outputs": [],
   "source": [
    "#qtde de moesdas\n",
    "print(df_junto.select(\"moeda\").distinct().count())"
   ]
  },
  {
   "cell_type": "code",
   "execution_count": 0,
   "metadata": {
    "application/vnd.databricks.v1+cell": {
     "cellMetadata": {
      "byteLimit": 2048000,
      "rowLimit": 10000
     },
     "inputWidgets": {},
     "nuid": "03ccce3a-1e4d-4eb2-a641-4fd1050379fa",
     "showTitle": false,
     "tableResultSettingsMap": {},
     "title": ""
    }
   },
   "outputs": [],
   "source": [
    "moedas = ['USD', 'EUR', 'GBP']\n",
    "\n",
    "df_moedas = df_junto.filter(df_junto.moeda.isin(moedas))\n",
    "df_moedas.show()"
   ]
  },
  {
   "cell_type": "code",
   "execution_count": 0,
   "metadata": {
    "application/vnd.databricks.v1+cell": {
     "cellMetadata": {
      "byteLimit": 2048000,
      "rowLimit": 10000
     },
     "inputWidgets": {},
     "nuid": "b1898bee-d669-41c6-8512-54b3cf927278",
     "showTitle": false,
     "tableResultSettingsMap": {},
     "title": ""
    }
   },
   "outputs": [],
   "source": [
    "df_moedas.select(\"moeda\").distinct().count()"
   ]
  },
  {
   "cell_type": "markdown",
   "metadata": {
    "application/vnd.databricks.v1+cell": {
     "cellMetadata": {},
     "inputWidgets": {},
     "nuid": "c9c236da-2054-471d-99f3-ed6e75d4954f",
     "showTitle": false,
     "tableResultSettingsMap": {},
     "title": ""
    },
    "jupyter": {
     "outputs_hidden": true
    }
   },
   "source": [
    "corrigindo schemas"
   ]
  },
  {
   "cell_type": "code",
   "execution_count": 0,
   "metadata": {
    "application/vnd.databricks.v1+cell": {
     "cellMetadata": {},
     "inputWidgets": {},
     "nuid": "4e18ccb8-1f63-4a31-af5b-bfbd67f56192",
     "showTitle": false,
     "tableResultSettingsMap": {},
     "title": ""
    },
    "jupyter": {
     "outputs_hidden": true
    }
   },
   "outputs": [],
   "source": [
    "df_moedas.printSchema()"
   ]
  },
  {
   "cell_type": "code",
   "execution_count": 0,
   "metadata": {
    "application/vnd.databricks.v1+cell": {
     "cellMetadata": {},
     "inputWidgets": {},
     "nuid": "e01b9f90-0317-4fb2-a764-6aeffd9e5f46",
     "showTitle": false,
     "tableResultSettingsMap": {},
     "title": ""
    }
   },
   "outputs": [],
   "source": [
    "#corrigindo o schema da data\n",
    "from pyspark.sql.functions import to_date\n",
    "\n",
    "df_moedas = df_moedas.withColumn(\"data\", to_date(\"data\"))\n",
    "\n"
   ]
  },
  {
   "cell_type": "code",
   "execution_count": 0,
   "metadata": {
    "application/vnd.databricks.v1+cell": {
     "cellMetadata": {},
     "inputWidgets": {},
     "nuid": "ab2531d6-dd90-4d3e-b0df-4ff002fb635a",
     "showTitle": false,
     "tableResultSettingsMap": {},
     "title": ""
    }
   },
   "outputs": [],
   "source": [
    "df_moedas.printSchema()"
   ]
  },
  {
   "cell_type": "code",
   "execution_count": 0,
   "metadata": {
    "application/vnd.databricks.v1+cell": {
     "cellMetadata": {},
     "inputWidgets": {},
     "nuid": "34c661e2-6758-4a19-8097-6483ef8f4508",
     "showTitle": false,
     "tableResultSettingsMap": {},
     "title": ""
    }
   },
   "outputs": [],
   "source": [
    "#Agrupar por data e criar coluna para cada moeda\n",
    "from pyspark.sql.functions import first\n",
    "\n",
    "resultado_taxas_conversao = df_moedas.groupBy(\"data\") \\\n",
    "           .pivot(\"moeda\") \\\n",
    "           .agg(first(\"taxa\")) \\\n",
    "           .orderBy(\"data\", ascending=False)\n",
    "\n",
    "resultado_taxas_conversao.show()\n"
   ]
  },
  {
   "cell_type": "code",
   "execution_count": 0,
   "metadata": {
    "application/vnd.databricks.v1+cell": {
     "cellMetadata": {},
     "inputWidgets": {},
     "nuid": "8b5a02f4-2010-4a07-8ca8-ebc77f259463",
     "showTitle": false,
     "tableResultSettingsMap": {},
     "title": ""
    }
   },
   "outputs": [],
   "source": [
    "#transformando o valor da taxaem valor de quantos reais compra a moeda e não o contrario\n",
    "from pyspark.sql. functions import col, round\n",
    "\n",
    "for moeda in moedas: \n",
    "        resultado_valores_reais = resultado_valores_reais\\\n",
    "                                                                .withColumn(\n",
    "                                                                        moeda, round(1/col(moeda), 4)\n",
    "                                                                )\n",
    "resultado_valores_reais.show()"
   ]
  },
  {
   "cell_type": "code",
   "execution_count": 0,
   "metadata": {
    "application/vnd.databricks.v1+cell": {
     "cellMetadata": {},
     "inputWidgets": {},
     "nuid": "2bf093ab-37aa-4501-9af9-0fd17fb51079",
     "showTitle": false,
     "tableResultSettingsMap": {},
     "title": ""
    }
   },
   "outputs": [],
   "source": [
    "# Em uma nova célula colocamos resultado_taxas_conversao = resultado_taxas_conversao.coalesce(1), essa forma juntamos o conjunto de dados em apenas um\n",
    "resultado_taxas_conversao = resultado_taxas_conversao.coalesce(1)\n",
    "resultado_valores_reais = resultado_valores_reais.coalesce(1)"
   ]
  },
  {
   "cell_type": "code",
   "execution_count": 0,
   "metadata": {
    "application/vnd.databricks.v1+cell": {
     "cellMetadata": {},
     "inputWidgets": {},
     "nuid": "65e2b2cb-752f-45c7-958f-df04b8e4a5d8",
     "showTitle": false,
     "tableResultSettingsMap": {},
     "title": ""
    }
   },
   "outputs": [],
   "source": [
    "#salvando o csv na camada prata \n",
    "resultado_taxas_conversao.write\\\n",
    "    .mode (\"overwrite\")\\\n",
    "    .format(\"csv\")\\\n",
    "    .option(\"header\", \"true\")\\\n",
    "    .save(\"dbfs:/databricks-results/prata/taxas_conversao\")\n",
    "    \n",
    "    resultado_valores_reais.write\\\n",
    "    .mode (\"overwrite\")\\\n",
    "    .format(\"csv\")\\\n",
    "    .option(\"header\", \"true\")\\\n",
    "    .save(\"dbfs:/databricks-results/prata/valores_reais\")"
   ]
  },
  {
   "cell_type": "code",
   "execution_count": 0,
   "metadata": {
    "application/vnd.databricks.v1+cell": {
     "cellMetadata": {},
     "inputWidgets": {},
     "nuid": "05017bce-f482-43c2-af8e-8568259c199f",
     "showTitle": false,
     "tableResultSettingsMap": {},
     "title": ""
    }
   },
   "outputs": [],
   "source": [
    "display(dbutils.fs.ls(\"dbfs:/databricks-results/prata/valores_reais/\"))"
   ]
  }
 ],
 "metadata": {
  "application/vnd.databricks.v1+notebook": {
   "computePreferences": null,
   "dashboards": [],
   "environmentMetadata": {
    "base_environment": "",
    "environment_version": "2"
   },
   "inputWidgetPreferences": null,
   "language": "python",
   "notebookMetadata": {
    "pythonIndentUnit": 4
   },
   "notebookName": "2-transformando-dados-exploracao",
   "widgets": {}
  },
  "language_info": {
   "name": "python"
  }
 },
 "nbformat": 4,
 "nbformat_minor": 0
}
